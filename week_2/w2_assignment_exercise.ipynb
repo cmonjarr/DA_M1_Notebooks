{
 "cells": [
  {
   "cell_type": "markdown",
   "metadata": {},
   "source": [
    "In this exercise you are going to simulate a sales and operations planning using the zero stock level strategy. Write a Python program that asks the user to enter the following data:\n",
    "\n",
    "An initial stock level for a product\n",
    "The number of month(s) to plan\n",
    "The planned sales quantity for each month\n",
    "Based on this data, calculate the required production quantity as follows:\n",
    "\n",
    "If the sales quantity is smaller than the stock level of the previous month, the production quantity is 0"
   ]
  },
  {
   "cell_type": "code",
   "execution_count": 2,
   "metadata": {},
   "outputs": [
    {
     "name": "stdout",
     "output_type": "stream",
     "text": [
      "The initial stock is  500\n",
      "The number of months to plan is 5\n",
      "Production quantity month 0 - 0\n",
      "Production quantity month 1 - 50\n",
      "Production quantity month 2 - 200\n",
      "Production quantity month 3 - 400\n",
      "Production quantity month 4 - 100\n"
     ]
    }
   ],
   "source": [
    "stock_level =int(input(\"Please enter the initial stock level:\"))\n",
    "number_of_months = int(input(\"Please enter number of month(s) to plan:\"))\n",
    "print(\"The initial stock is \",stock_level)\n",
    "print(\"The number of months to plan is\", number_of_months)\n",
    "\n",
    "planned_sale = []\n",
    "for n_month in range(number_of_months):\n",
    "    sale_quantity = int(input(\"Please enter the planned sales quantity:\"))\n",
    "    planned_sale.append(sale_quantity)\n",
    "\n",
    "prod_quantity = []\n",
    "for n_month in range(number_of_months):\n",
    "    if stock_level >= planned_sale[n_month]:\n",
    "        prod_quantity.append(0)\n",
    "        stock_level -= planned_sale[n_month]\n",
    "    else:\n",
    "        prod_quantity.append(planned_sale[n_month] - stock_level)\n",
    "        stock_level = 0\n",
    "\n",
    "for n_month in range(number_of_months):      \n",
    "    print(\"Production quantity month\", n_month, \"-\", prod_quantity[n_month])\n"
   ]
  }
 ],
 "metadata": {
  "kernelspec": {
   "display_name": "Python 3",
   "language": "python",
   "name": "python3"
  },
  "language_info": {
   "codemirror_mode": {
    "name": "ipython",
    "version": 3
   },
   "file_extension": ".py",
   "mimetype": "text/x-python",
   "name": "python",
   "nbconvert_exporter": "python",
   "pygments_lexer": "ipython3",
   "version": "3.11.9"
  }
 },
 "nbformat": 4,
 "nbformat_minor": 2
}
