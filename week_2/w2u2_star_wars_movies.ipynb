{
 "cells": [
  {
   "cell_type": "code",
   "execution_count": 7,
   "metadata": {},
   "outputs": [
    {
     "name": "stdout",
     "output_type": "stream",
     "text": [
      "The selected movie is  The Rise of Skywalker\n"
     ]
    }
   ],
   "source": [
    "star_wars_movies = [\n",
    "    [\"The Phantom Menace\", \"Attack of the Clones\", \"Revenge of the Sith\"],\n",
    "    [\"A New Hope\", \"The Empire Strikes Back\", \"Return of the Jedi\"],\n",
    "    [\"The Force Awakens\", \"The Last Jedi\", \"The Rise of Skywalker\"],\n",
    "]\n",
    "\n",
    "trilogy = int(input(\"Please enter the number of the trilogy (1, 2 or 3):\"))\n",
    "movie = int(input(\"Please enter the number of the movie in the trilogy (1, 2 or 3):\"))\n",
    "\n",
    "print(\"The selected movie is \",star_wars_movies[trilogy-1][movie-1])"
   ]
  }
 ],
 "metadata": {
  "kernelspec": {
   "display_name": "Python 3",
   "language": "python",
   "name": "python3"
  },
  "language_info": {
   "codemirror_mode": {
    "name": "ipython",
    "version": 3
   },
   "file_extension": ".py",
   "mimetype": "text/x-python",
   "name": "python",
   "nbconvert_exporter": "python",
   "pygments_lexer": "ipython3",
   "version": "3.11.9"
  }
 },
 "nbformat": 4,
 "nbformat_minor": 2
}
