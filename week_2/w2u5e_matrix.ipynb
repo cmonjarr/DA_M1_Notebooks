{
 "cells": [
  {
   "cell_type": "markdown",
   "metadata": {},
   "source": [
    "Write a program that lets the user input a two-dimensional matrix (Hint: you could use a list of lists to store the matrix). The program should first ask the user how many rows and columns the matrix should contain. Next, the program should ask the user for the elements of the matrix. Your program should read the values from the user row by row. If, for example, the matrix has the dimension 2 by 3, the values should be read as follows:\n",
    "\n",
    "First row, first value\n",
    "First row, second value\n",
    "First row, third value\n",
    "Second row, first value\n",
    "Second row, second value\n",
    "Second row, third value\n",
    "Finally, the program should calculate and print the sums of the values in each row.\n",
    "\n",
    "Below is an example execution of the program:\n",
    "\n",
    "Please enter the number of rows in the matrix: 2\n",
    "Please enter the number of columns in the matrix: 3\n",
    "Enter the matrix values:\n",
    "Value: 1\n",
    "Value: 2\n",
    "Value: 3\n",
    "Value: 4\n",
    "Value: 5\n",
    "Value: 6\n",
    "Sum of row: 6\n",
    "Sum of row: 15\n"
   ]
  },
  {
   "cell_type": "code",
   "execution_count": 4,
   "metadata": {},
   "outputs": [
    {
     "name": "stdout",
     "output_type": "stream",
     "text": [
      "Number of rows: 3\n",
      "Number of columns: 3\n",
      "Matrix Values:\n",
      "Value: 1\n",
      "Value: 2\n",
      "Value: 3\n",
      "Value: 2\n",
      "Value: 4\n",
      "Value: 6\n",
      "Value: 3\n",
      "Value: 6\n",
      "Value: 9\n",
      "Sum of row: 6\n",
      "Sum of row: 12\n",
      "Sum of row: 18\n"
     ]
    }
   ],
   "source": [
    "rows = int(input(\"Please enter the number of rows in the matrix:\"))\n",
    "columns = int(input(\"Please enter the number of columns in the matrix:\"))\n",
    "print(\"Number of rows:\", rows)\n",
    "print(\"Number of columns:\", columns)\n",
    "print(\"Matrix Values:\")\n",
    "      \n",
    "row_list = list(range(rows))\n",
    "user_matrix = []\n",
    "row_sum = []\n",
    "\n",
    "for row in row_list:\n",
    "    column_list = list(range(columns))\n",
    "    rlist = []\n",
    "    value_sum = 0\n",
    "    for column in column_list:\n",
    "        value = int(input(\"Please enter the value: \"))\n",
    "        print(\"Value:\", value)\n",
    "        rlist.append(value)\n",
    "        value_sum += value\n",
    "    user_matrix.append(rlist)\n",
    "    row_sum.append(value_sum)\n",
    "\n",
    "for row in row_list:\n",
    "    print(\"Sum of row:\", row_sum[row])\n",
    "\n"
   ]
  }
 ],
 "metadata": {
  "kernelspec": {
   "display_name": "Python 3",
   "language": "python",
   "name": "python3"
  },
  "language_info": {
   "codemirror_mode": {
    "name": "ipython",
    "version": 3
   },
   "file_extension": ".py",
   "mimetype": "text/x-python",
   "name": "python",
   "nbconvert_exporter": "python",
   "pygments_lexer": "ipython3",
   "version": "3.11.9"
  }
 },
 "nbformat": 4,
 "nbformat_minor": 2
}
